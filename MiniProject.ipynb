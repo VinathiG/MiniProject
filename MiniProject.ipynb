{
  "nbformat": 4,
  "nbformat_minor": 0,
  "metadata": {
    "colab": {
      "name": "MiniProject.ipynb",
      "provenance": [],
      "collapsed_sections": [],
      "authorship_tag": "ABX9TyOURUWhraMHO4Bxy/fkCInz",
      "include_colab_link": true
    },
    "kernelspec": {
      "name": "python3",
      "display_name": "Python 3"
    },
    "language_info": {
      "name": "python"
    }
  },
  "cells": [
    {
      "cell_type": "markdown",
      "metadata": {
        "id": "view-in-github",
        "colab_type": "text"
      },
      "source": [
        "<a href=\"https://colab.research.google.com/github/VinathiG/MiniProject/blob/main/MiniProject.ipynb\" target=\"_parent\"><img src=\"https://colab.research.google.com/assets/colab-badge.svg\" alt=\"Open In Colab\"/></a>"
      ]
    },
    {
      "cell_type": "code",
      "metadata": {
        "colab": {
          "base_uri": "https://localhost:8080/"
        },
        "id": "YWRUSwXTyIf4",
        "outputId": "10b30c60-a470-47eb-bdc0-8df079df83ee"
      },
      "source": [
        "!pip install bing-image-downloader\n"
      ],
      "execution_count": 4,
      "outputs": [
        {
          "output_type": "stream",
          "text": [
            "Collecting bing-image-downloader\n",
            "  Downloading https://files.pythonhosted.org/packages/2c/f9/e827c690d0df1ec2f2f27cf0fb3d1f944c5c56253f8d3750ccaff051b3d3/bing_image_downloader-1.1.0-py3-none-any.whl\n",
            "Installing collected packages: bing-image-downloader\n",
            "Successfully installed bing-image-downloader-1.1.0\n"
          ],
          "name": "stdout"
        }
      ]
    },
    {
      "cell_type": "code",
      "metadata": {
        "colab": {
          "base_uri": "https://localhost:8080/"
        },
        "id": "O1Gg31ewB7iU",
        "outputId": "94dfce39-5555-465d-d6af-b26f10abf7b6"
      },
      "source": [
        "!mkdir images"
      ],
      "execution_count": 6,
      "outputs": [
        {
          "output_type": "stream",
          "text": [
            "mkdir: cannot create directory ‘images’: File exists\n"
          ],
          "name": "stdout"
        }
      ]
    },
    {
      "cell_type": "code",
      "metadata": {
        "colab": {
          "base_uri": "https://localhost:8080/"
        },
        "id": "0wbecE2oIQeD",
        "outputId": "ee7b142c-c0f7-4ac3-d834-c8b198edc6b4"
      },
      "source": [
        "from bing_image_downloader import downloader\n",
        "downloader.download(\"pizza\",limit=15,output_dir='images',adult_filter_off=True)"
      ],
      "execution_count": 7,
      "outputs": [
        {
          "output_type": "stream",
          "text": [
            "[%] Downloading Images to /content/images/pizza\n",
            "\n",
            "\n",
            "[!!]Indexing page: 1\n",
            "\n",
            "[%] Indexed 15 Images on Page 1.\n",
            "\n",
            "===============================================\n",
            "\n",
            "[%] Downloading Image #1 from http://cdn.wonderfuldiy.com/wp-content/uploads/2017/04/True-italian-pizza--1024x680.jpeg\n",
            "[%] File Downloaded !\n",
            "\n",
            "[%] Downloading Image #2 from https://truepizza.co/wp-content/uploads/2020/04/true-pizza-03-1.jpg\n",
            "[%] File Downloaded !\n",
            "\n",
            "[%] Downloading Image #3 from http://www.girlsofto.com/wp-content/uploads/2016/05/DSC03833.jpg\n",
            "[%] File Downloaded !\n",
            "\n",
            "[%] Downloading Image #4 from http://maegan.co/wp-content/uploads/2017/06/True-True-Pizza.png\n",
            "[%] File Downloaded !\n",
            "\n",
            "[%] Downloading Image #5 from http://trueitalian.top/wp-content/uploads/2020/10/copertina-Amburgo.jpg\n",
            "[Error]Invalid image, not saving http://trueitalian.top/wp-content/uploads/2020/10/copertina-Amburgo.jpg\n",
            "\n",
            "[!] Issue getting: http://trueitalian.top/wp-content/uploads/2020/10/copertina-Amburgo.jpg\n",
            "[!] Error:: Invalid image, not saving http://trueitalian.top/wp-content/uploads/2020/10/copertina-Amburgo.jpg\n",
            "\n",
            "[%] Downloading Image #5 from https://truepizza.co/wp-content/uploads/2020/04/pizza-cheesy-2-768x768.jpg\n",
            "[%] File Downloaded !\n",
            "\n",
            "[%] Downloading Image #6 from https://myitalianlink.com/wordpress/wp-content/uploads/2018/05/authentic-pizza-in-Italy.jpeg\n",
            "[%] File Downloaded !\n",
            "\n",
            "[%] Downloading Image #7 from https://www.monapizza.ca/wp-content/uploads/2020/05/TRUE-CANADIAN-PIZZA.png\n",
            "[%] File Downloaded !\n",
            "\n",
            "[%] Downloading Image #8 from https://cdn.apartmenttherapy.info/image/fetch/w_1500,c_fit/https://s3.amazonaws.com/pixtruder/original_images/de4914528de2c6d428ec52feb56c7b47b142e984\n",
            "[%] File Downloaded !\n",
            "\n",
            "[%] Downloading Image #9 from https://www.goballantyne.com/content/uploads/2018/04/TruePizza-1024x611.jpg\n",
            "[%] File Downloaded !\n",
            "\n",
            "[%] Downloading Image #10 from https://i.pinimg.com/originals/5d/32/39/5d3239eda7c5179d663f3692dd2882fe.jpg\n",
            "[%] File Downloaded !\n",
            "\n",
            "[%] Downloading Image #11 from https://berlinocacioepepemagazine.com/wp-content/uploads/2018/03/DSC2103.jpg\n",
            "[%] File Downloaded !\n",
            "\n",
            "[%] Downloading Image #12 from https://www.iheartberlin.de/wp-content/uploads/2020/10/True-Italian-Pizza-Week-Berlin-PizzaDrink12-€.jpg\n",
            "[!] Issue getting: https://www.iheartberlin.de/wp-content/uploads/2020/10/True-Italian-Pizza-Week-Berlin-PizzaDrink12-€.jpg\n",
            "[!] Error:: 'ascii' codec can't encode character '\\u20ac' in position 76: ordinal not in range(128)\n",
            "[%] Downloading Image #12 from http://cdn.berlinocacioepepemagazine.com/wp-content/uploads/2018/02/2FEB1D41-EB4F-4438-A394-AA17AD34809B.jpeg\n",
            "[%] File Downloaded !\n",
            "\n",
            "[%] Downloading Image #13 from https://i.pinimg.com/originals/21/6e/39/216e390adb32ed346602efbf81c028da.png\n",
            "[%] File Downloaded !\n",
            "\n",
            "\n",
            "\n",
            "[!!]Indexing page: 2\n",
            "\n",
            "[%] Indexed 35 Images on Page 2.\n",
            "\n",
            "===============================================\n",
            "\n",
            "[%] Downloading Image #14 from https://truepizza.co/wp-content/uploads/2020/04/true-pizza-03-1.jpg\n",
            "[%] File Downloaded !\n",
            "\n",
            "[%] Downloading Image #15 from http://cdn.wonderfuldiy.com/wp-content/uploads/2017/04/True-italian-pizza--1024x680.jpeg\n",
            "[%] File Downloaded !\n",
            "\n",
            "\n",
            "\n",
            "[%] Done. Downloaded 15 images.\n",
            "===============================================\n",
            "\n",
            "Please show your support here\n",
            "https://www.buymeacoffee.com/gurugaurav\n",
            "\n",
            "===============================================\n",
            "\n"
          ],
          "name": "stdout"
        }
      ]
    },
    {
      "cell_type": "code",
      "metadata": {
        "colab": {
          "base_uri": "https://localhost:8080/"
        },
        "id": "tBq_Pmy8NdwR",
        "outputId": "80445e35-1b1b-4d55-e8ed-fda042f6b141"
      },
      "source": [
        "downloader.download(\"tulips\",limit=15,output_dir='images',adult_filter_off=True)"
      ],
      "execution_count": 8,
      "outputs": [
        {
          "output_type": "stream",
          "text": [
            "[%] Downloading Images to /content/images/tulips\n",
            "\n",
            "\n",
            "[!!]Indexing page: 1\n",
            "\n",
            "[%] Indexed 15 Images on Page 1.\n",
            "\n",
            "===============================================\n",
            "\n",
            "[%] Downloading Image #1 from https://img-aws.ehowcdn.com/default/ds-photo/getty/article/79/3/186487777.jpg\n",
            "[%] File Downloaded !\n",
            "\n",
            "[%] Downloading Image #2 from https://www.hadeco.co.za/wp-content/uploads/2018/02/elbo09319.jpg\n",
            "[%] File Downloaded !\n",
            "\n",
            "[%] Downloading Image #3 from https://i.pinimg.com/originals/37/8c/04/378c04ba30b402514f39f36eb2b02799.jpg\n",
            "[%] File Downloaded !\n",
            "\n",
            "[%] Downloading Image #4 from https://s3-us-west-2.amazonaws.com/distiller-blog-prod/wp-content/uploads/2018/03/23143351/title8.jpg\n",
            "[%] File Downloaded !\n",
            "\n",
            "[%] Downloading Image #5 from https://3.bp.blogspot.com/-I7e7aWu0EyU/T18MTSjjMFI/AAAAAAAADBE/GyGWQUnK4XM/s1600/2+spring-flowers-yellow-tulips_all-hit-movies.blogspot.in.jpg\n",
            "[%] File Downloaded !\n",
            "\n",
            "[%] Downloading Image #6 from https://i.pinimg.com/originals/48/6d/6d/486d6d39f86d5c5eb2bc348c98c5ce4e.jpg\n",
            "[%] File Downloaded !\n",
            "\n",
            "[%] Downloading Image #7 from http://www.momgenerations.com/wp-content/uploads/2013/05/IMG_4858.jpg\n",
            "[%] File Downloaded !\n",
            "\n",
            "[%] Downloading Image #8 from https://i.pinimg.com/originals/52/f2/e9/52f2e9ba007e01ced725149c3f410c76.jpg\n",
            "[%] File Downloaded !\n",
            "\n",
            "[%] Downloading Image #9 from https://2.bp.blogspot.com/-HonVyIsMeTI/T18MeNgdaXI/AAAAAAAADBc/bUwUb6oRFm4/s1600/5+Yellow+Tulips_cute+picture_all-hit-movies.blogspot.in.jpg\n",
            "[%] File Downloaded !\n",
            "\n",
            "[%] Downloading Image #10 from http://4.bp.blogspot.com/-XPOjixGBu50/U16JVx9wqVI/AAAAAAAARic/jxPa-_87qis/s1600/Tulips1.jpg\n",
            "[%] File Downloaded !\n",
            "\n",
            "[%] Downloading Image #11 from https://www.toledoblade.com/image/2014/09/30/Wild-tulips-can-be-planted-and-forgotten-about.jpg\n",
            "[%] File Downloaded !\n",
            "\n",
            "[%] Downloading Image #12 from https://i.pinimg.com/originals/6e/13/d5/6e13d516d7bcbe4930ab9693ede44b06.jpg\n",
            "[%] File Downloaded !\n",
            "\n",
            "[%] Downloading Image #13 from https://www.lubbockonline.com/storyimage/TX/20141001/LIFESTYLE/310019865/AR/0/AR-310019865.jpg\n",
            "[%] File Downloaded !\n",
            "\n",
            "[%] Downloading Image #14 from https://blog.longfield-gardens.com/wp-content/uploads/2015/08/TLP11GCarnavaldeNiceJope00764-1.jpg\n",
            "[%] File Downloaded !\n",
            "\n",
            "[%] Downloading Image #15 from https://i.pinimg.com/originals/ff/6a/5d/ff6a5df127ec53644512cb923089cc8b.jpg\n",
            "[%] File Downloaded !\n",
            "\n",
            "\n",
            "\n",
            "[%] Done. Downloaded 15 images.\n",
            "===============================================\n",
            "\n",
            "Please show your support here\n",
            "https://www.buymeacoffee.com/gurugaurav\n",
            "\n",
            "===============================================\n",
            "\n"
          ],
          "name": "stdout"
        }
      ]
    },
    {
      "cell_type": "code",
      "metadata": {
        "colab": {
          "base_uri": "https://localhost:8080/"
        },
        "id": "j2ADrn__PSJE",
        "outputId": "f7ba0fe4-9863-4471-8d14-c5d2cb888e06"
      },
      "source": [
        "downloader.download(\"pugs\",limit=15,output_dir='images',adult_filter_off=True)"
      ],
      "execution_count": 9,
      "outputs": [
        {
          "output_type": "stream",
          "text": [
            "[%] Downloading Images to /content/images/pugs\n",
            "\n",
            "\n",
            "[!!]Indexing page: 1\n",
            "\n",
            "[%] Indexed 15 Images on Page 1.\n",
            "\n",
            "===============================================\n",
            "\n",
            "[%] Downloading Image #1 from https://i.pinimg.com/736x/ae/0b/19/ae0b19f2630a164b123d802264b2b03a--necklaces-model.jpg\n",
            "[%] File Downloaded !\n",
            "\n",
            "[%] Downloading Image #2 from https://cdn.petpress.net/wp-content/uploads/2019/11/12173643/72395342_2239326639700551_4017999226296119195_n.jpg\n",
            "[%] File Downloaded !\n",
            "\n",
            "[%] Downloading Image #3 from https://cdn.petpress.net/wp-content/uploads/2019/11/12173652/72412658_566634780737273_3064416333588612544_n1.jpg\n",
            "[%] File Downloaded !\n",
            "\n",
            "[%] Downloading Image #4 from https://cdn.petpress.net/wp-content/uploads/2019/11/12173638/73216163_126079255099720_9038622170265191634_n.jpg\n",
            "[%] File Downloaded !\n",
            "\n",
            "[%] Downloading Image #5 from https://i.redd.it/4bb9bfkp1fx01.jpg\n",
            "[Error]Invalid image, not saving https://i.redd.it/4bb9bfkp1fx01.jpg\n",
            "\n",
            "[!] Issue getting: https://i.redd.it/4bb9bfkp1fx01.jpg\n",
            "[!] Error:: Invalid image, not saving https://i.redd.it/4bb9bfkp1fx01.jpg\n",
            "\n",
            "[%] Downloading Image #5 from https://i.pinimg.com/originals/11/d8/08/11d808464264040b83376fb059792055.jpg\n",
            "[%] File Downloaded !\n",
            "\n",
            "[%] Downloading Image #6 from https://cdn.petpress.net/wp-content/uploads/2019/11/12173650/73414938_424616501533993_7668431983717047322_n.jpg\n",
            "[%] File Downloaded !\n",
            "\n",
            "[%] Downloading Image #7 from http://www.pawbuzz.com/wp-content/uploads/sites/551/2014/12/these-adorable-pug-pals-demonstr.jpg\n",
            "[%] File Downloaded !\n",
            "\n",
            "[%] Downloading Image #8 from https://cdn-images-1.medium.com/max/1600/0*ab21Gqm4fDN1K4kg.jpg\n",
            "[Error]Invalid image, not saving https://cdn-images-1.medium.com/max/1600/0*ab21Gqm4fDN1K4kg.jpg\n",
            "\n",
            "[!] Issue getting: https://cdn-images-1.medium.com/max/1600/0*ab21Gqm4fDN1K4kg.jpg\n",
            "[!] Error:: Invalid image, not saving https://cdn-images-1.medium.com/max/1600/0*ab21Gqm4fDN1K4kg.jpg\n",
            "\n",
            "[%] Downloading Image #8 from https://www.pets4homes.co.uk/images/classifieds/2021/02/15/3121841/large/true-show-quality-standard-pugs-602a469c8d5b6.jpg\n",
            "[!] Issue getting: https://www.pets4homes.co.uk/images/classifieds/2021/02/15/3121841/large/true-show-quality-standard-pugs-602a469c8d5b6.jpg\n",
            "[!] Error:: HTTP Error 404: Not Found\n",
            "[%] Downloading Image #8 from https://www.rover.com/blog/wp-content/uploads/2017/02/old-man-2090377_1920-1024x683.jpg\n",
            "[%] File Downloaded !\n",
            "\n",
            "[%] Downloading Image #9 from https://i.pinimg.com/736x/0c/07/03/0c070310a85a1167211d3a457e71e128.jpg\n",
            "[%] File Downloaded !\n",
            "\n",
            "[%] Downloading Image #10 from https://thehappypuppysite.com/wp-content/uploads/2019/06/Pug-Facts-tall.jpg\n",
            "[Error]Invalid image, not saving https://thehappypuppysite.com/wp-content/uploads/2019/06/Pug-Facts-tall.jpg\n",
            "\n",
            "[!] Issue getting: https://thehappypuppysite.com/wp-content/uploads/2019/06/Pug-Facts-tall.jpg\n",
            "[!] Error:: Invalid image, not saving https://thehappypuppysite.com/wp-content/uploads/2019/06/Pug-Facts-tall.jpg\n",
            "\n",
            "[%] Downloading Image #10 from https://i.pinimg.com/originals/b4/e6/f1/b4e6f1e78fead52eb1d3947488505d6a.jpg\n",
            "[%] File Downloaded !\n",
            "\n",
            "[%] Downloading Image #11 from https://mnmidwestpugrescue.wildapricot.org/resources/Pictures/Bella2a.jpg\n",
            "[%] File Downloaded !\n",
            "\n",
            "\n",
            "\n",
            "[!!]Indexing page: 2\n",
            "\n",
            "[%] Indexed 35 Images on Page 2.\n",
            "\n",
            "===============================================\n",
            "\n",
            "[%] Downloading Image #12 from https://i.pinimg.com/736x/ae/0b/19/ae0b19f2630a164b123d802264b2b03a--necklaces-model.jpg\n",
            "[%] File Downloaded !\n",
            "\n",
            "[%] Downloading Image #13 from https://cdn.petpress.net/wp-content/uploads/2019/11/12173643/72395342_2239326639700551_4017999226296119195_n.jpg\n",
            "[%] File Downloaded !\n",
            "\n",
            "[%] Downloading Image #14 from https://cdn.petpress.net/wp-content/uploads/2019/11/12173652/72412658_566634780737273_3064416333588612544_n1.jpg\n",
            "[%] File Downloaded !\n",
            "\n",
            "[%] Downloading Image #15 from https://i.pinimg.com/originals/11/d8/08/11d808464264040b83376fb059792055.jpg\n",
            "[%] File Downloaded !\n",
            "\n",
            "\n",
            "\n",
            "[%] Done. Downloaded 15 images.\n",
            "===============================================\n",
            "\n",
            "Please show your support here\n",
            "https://www.buymeacoffee.com/gurugaurav\n",
            "\n",
            "===============================================\n",
            "\n"
          ],
          "name": "stdout"
        }
      ]
    },
    {
      "cell_type": "code",
      "metadata": {
        "colab": {
          "base_uri": "https://localhost:8080/"
        },
        "id": "LNt7-xC7PuRM",
        "outputId": "ed411a28-59d2-4837-cd61-4a5b7eae9141"
      },
      "source": [
        "import os\n",
        "import matplotlib.pyplot as plt\n",
        "import numpy as np\n",
        "from skimage.io import imread \n",
        "from skimage.transform import resize\n",
        "target=[]\n",
        "images=[]\n",
        "flat_data=[]\n",
        "DATADIR='/content/images'\n",
        "CATEGORIES=['pizza','tulips','pugs']\n",
        "for category in CATEGORIES:\n",
        "  class_num=CATEGORIES.index(category)\n",
        "  print(class_num)\n",
        "  path=os.path.join(DATADIR,category)\n",
        "  for img in os.listdir(path):\n",
        "    img_array=imread(os.path.join(path,img))\n",
        "    img_resized=resize(img_array,(150,150,3))\n",
        "    flat_data.append(img_resized.flatten())\n",
        "    images.append(img_resized)\n",
        "    target.append(class_num)\n",
        "\n",
        "flat_data=np.array(flat_data)\n",
        "target=np.array(target)\n",
        "images=np.array(images)\n",
        "\n",
        "\n"
      ],
      "execution_count": 11,
      "outputs": [
        {
          "output_type": "stream",
          "text": [
            "0\n",
            "1\n",
            "2\n"
          ],
          "name": "stdout"
        }
      ]
    },
    {
      "cell_type": "code",
      "metadata": {
        "id": "eAL-RCujmQwL"
      },
      "source": [
        "from sklearn.model_selection import train_test_split\n",
        "x_train,x_test,y_train,y_test=train_test_split(flat_data,target,\n",
        "                                test_size=0.3,random_state=109)"
      ],
      "execution_count": 12,
      "outputs": []
    },
    {
      "cell_type": "code",
      "metadata": {
        "colab": {
          "base_uri": "https://localhost:8080/"
        },
        "id": "ox9eBz44mtJ9",
        "outputId": "bbe310bf-a33e-4e10-9a08-9cc4eaff6711"
      },
      "source": [
        "  from sklearn.model_selection import GridSearchCV\n",
        "  from sklearn import svm\n",
        "  param_grid=[{'C':[1,10,100,1000],'kernel':['linear']},\n",
        "              {'C':[1,10,100,1000],'gamma':[0.001,0.0001],'kernel':['rbf']},\n",
        "  ]\n",
        "  svc=svm.SVC(probability=True)\n",
        "  clf=GridSearchCV(svc,param_grid)\n",
        "  clf.fit(x_train,y_train)"
      ],
      "execution_count": 13,
      "outputs": [
        {
          "output_type": "execute_result",
          "data": {
            "text/plain": [
              "GridSearchCV(cv=None, error_score=nan,\n",
              "             estimator=SVC(C=1.0, break_ties=False, cache_size=200,\n",
              "                           class_weight=None, coef0=0.0,\n",
              "                           decision_function_shape='ovr', degree=3,\n",
              "                           gamma='scale', kernel='rbf', max_iter=-1,\n",
              "                           probability=True, random_state=None, shrinking=True,\n",
              "                           tol=0.001, verbose=False),\n",
              "             iid='deprecated', n_jobs=None,\n",
              "             param_grid=[{'C': [1, 10, 100, 1000], 'kernel': ['linear']},\n",
              "                         {'C': [1, 10, 100, 1000], 'gamma': [0.001, 0.0001],\n",
              "                          'kernel': ['rbf']}],\n",
              "             pre_dispatch='2*n_jobs', refit=True, return_train_score=False,\n",
              "             scoring=None, verbose=0)"
            ]
          },
          "metadata": {
            "tags": []
          },
          "execution_count": 13
        }
      ]
    },
    {
      "cell_type": "code",
      "metadata": {
        "colab": {
          "base_uri": "https://localhost:8080/"
        },
        "id": "Q2msJtTkqkw7",
        "outputId": "43045307-4731-4e43-ca87-1052104fe065"
      },
      "source": [
        "y_pred=clf.predict(x_test)\n",
        "y_pred"
      ],
      "execution_count": 14,
      "outputs": [
        {
          "output_type": "execute_result",
          "data": {
            "text/plain": [
              "array([2, 0, 0, 1, 1, 0, 0, 0, 0, 2, 1, 2, 1, 1])"
            ]
          },
          "metadata": {
            "tags": []
          },
          "execution_count": 14
        }
      ]
    },
    {
      "cell_type": "code",
      "metadata": {
        "colab": {
          "base_uri": "https://localhost:8080/"
        },
        "id": "td1jHC1cqqsu",
        "outputId": "bec29bff-3871-4828-cc2a-06a66d3996f7"
      },
      "source": [
        "y_test"
      ],
      "execution_count": 15,
      "outputs": [
        {
          "output_type": "execute_result",
          "data": {
            "text/plain": [
              "array([2, 2, 2, 1, 1, 1, 2, 0, 0, 2, 1, 2, 2, 1])"
            ]
          },
          "metadata": {
            "tags": []
          },
          "execution_count": 15
        }
      ]
    },
    {
      "cell_type": "code",
      "metadata": {
        "id": "3fvXhXIMqtPQ"
      },
      "source": [
        "from sklearn.metrics import accuracy_score,confusion_matrix"
      ],
      "execution_count": 16,
      "outputs": []
    },
    {
      "cell_type": "code",
      "metadata": {
        "colab": {
          "base_uri": "https://localhost:8080/"
        },
        "id": "NAuStU-sq2PY",
        "outputId": "56302922-e696-4896-a54a-8ebcdbf5feed"
      },
      "source": [
        "accuracy_score(y_pred,y_test)"
      ],
      "execution_count": 17,
      "outputs": [
        {
          "output_type": "execute_result",
          "data": {
            "text/plain": [
              "0.6428571428571429"
            ]
          },
          "metadata": {
            "tags": []
          },
          "execution_count": 17
        }
      ]
    },
    {
      "cell_type": "code",
      "metadata": {
        "colab": {
          "base_uri": "https://localhost:8080/"
        },
        "id": "197yTmOArD7z",
        "outputId": "75da58ac-e9bb-4aff-8217-58309ace4364"
      },
      "source": [
        "confusion_matrix(y_pred,y_test)"
      ],
      "execution_count": 18,
      "outputs": [
        {
          "output_type": "execute_result",
          "data": {
            "text/plain": [
              "array([[2, 1, 3],\n",
              "       [0, 4, 1],\n",
              "       [0, 0, 3]])"
            ]
          },
          "metadata": {
            "tags": []
          },
          "execution_count": 18
        }
      ]
    },
    {
      "cell_type": "code",
      "metadata": {
        "id": "rm1EGMAKrOLI"
      },
      "source": [
        "import pickle\n",
        "pickle.dump(clf,open('img_model.p','wb'))"
      ],
      "execution_count": 19,
      "outputs": []
    },
    {
      "cell_type": "code",
      "metadata": {
        "id": "m0sN9D8OraO-"
      },
      "source": [
        "model=pickle.load(open('img_model.p','rb'))"
      ],
      "execution_count": 20,
      "outputs": []
    },
    {
      "cell_type": "code",
      "metadata": {
        "colab": {
          "base_uri": "https://localhost:8080/",
          "height": 321
        },
        "id": "JNmQzlkRroPO",
        "outputId": "1cc98e89-39e1-45b1-e63f-4b99e94b3133"
      },
      "source": [
        "flat_data=[]\n",
        "url=input('Enter your URL')\n",
        "img=imread(url)\n",
        "img_resize=resize(img,(150,150,3))\n",
        "flat_data.append(img_resized.flatten())\n",
        "flat_data=np.array(flat_data)\n",
        "print(img.shape)\n",
        "plt.imshow(img_resized)\n",
        "y_out=model.predict(flat_data)\n",
        "y_out=CATEGORIES[y_out[0]]\n",
        "print(f'PREDICTED OUTPUT: {y_out}')"
      ],
      "execution_count": 24,
      "outputs": [
        {
          "output_type": "stream",
          "text": [
            "Enter your URLhttps://upload.wikimedia.org/wikipedia/commons/8/86/Pizza_%281%29.jpg\n",
            "(1809, 2700, 3)\n",
            "PREDICTED OUTPUT: pugs\n"
          ],
          "name": "stdout"
        },
        {
          "output_type": "display_data",
          "data": {
            "image/png": "[encoded data removed]",
            "text/plain": [
              "<Figure size 432x288 with 1 Axes>"
            ]
          },
          "metadata": {
            "tags": [],
            "needs_background": "light"
          }
        }
      ]
    },
    {
      "cell_type": "code",
      "metadata": {
        "colab": {
          "base_uri": "https://localhost:8080/",
          "height": 1000
        },
        "id": "-7RroSPluiet",
        "outputId": "5490b28d-eb9c-4c53-9ca9-fad37eedb42c"
      },
      "source": [
        "\n"
      ],
      "execution_count": 38,
      "outputs": [
        {
          "output_type": "stream",
          "text": [
            "Collecting streamlit\n",
            "\u001b[?25l  Downloading https://files.pythonhosted.org/packages/04/11/57097e14f72a2d1b2a1bbe86c2a8bc375661bfd5c30b5e8cee7c2fad9a44/streamlit-0.82.0-py2.py3-none-any.whl (8.2MB)\n",
            "\u001b[K     |████████████████████████████████| 8.2MB 16.3MB/s \n",
            "\u001b[?25hRequirement already satisfied: numpy in /usr/local/lib/python3.7/dist-packages (from streamlit) (1.19.5)\n",
            "Requirement already satisfied: python-dateutil in /usr/local/lib/python3.7/dist-packages (from streamlit) (2.8.1)\n",
            "Collecting gitpython\n",
            "\u001b[?25l  Downloading https://files.pythonhosted.org/packages/27/da/6f6224fdfc47dab57881fe20c0d1bc3122be290198ba0bf26a953a045d92/GitPython-3.1.17-py3-none-any.whl (166kB)\n",
            "\u001b[K     |████████████████████████████████| 174kB 60.3MB/s \n",
            "\u001b[?25hCollecting watchdog; platform_system != \"Darwin\"\n",
            "\u001b[?25l  Downloading https://files.pythonhosted.org/packages/f2/5b/36b3b11e557830de6fc1dc06e9aa3ee274119b8cea9cc98175dbbf72cf87/watchdog-2.1.2-py3-none-manylinux2014_x86_64.whl (74kB)\n",
            "\u001b[K     |████████████████████████████████| 81kB 10.4MB/s \n",
            "\u001b[?25hRequirement already satisfied: tornado>=5.0 in /usr/local/lib/python3.7/dist-packages (from streamlit) (5.1.1)\n",
            "Requirement already satisfied: pandas>=0.21.0 in /usr/local/lib/python3.7/dist-packages (from streamlit) (1.1.5)\n",
            "Requirement already satisfied: cachetools>=4.0 in /usr/local/lib/python3.7/dist-packages (from streamlit) (4.2.2)\n",
            "Requirement already satisfied: pyarrow; python_version < \"3.9\" in /usr/local/lib/python3.7/dist-packages (from streamlit) (3.0.0)\n",
            "Collecting pydeck>=0.1.dev5\n",
            "\u001b[?25l  Downloading https://files.pythonhosted.org/packages/d6/bc/f0e44828e4290367c869591d50d3671a4d0ee94926da6cb734b7b200308c/pydeck-0.6.2-py2.py3-none-any.whl (4.2MB)\n",
            "\u001b[K     |████████████████████████████████| 4.2MB 42.2MB/s \n",
            "\u001b[?25hRequirement already satisfied: requests in /usr/local/lib/python3.7/dist-packages (from streamlit) (2.23.0)\n",
            "Requirement already satisfied: altair>=3.2.0 in /usr/local/lib/python3.7/dist-packages (from streamlit) (4.1.0)\n",
            "Requirement already satisfied: tzlocal in /usr/local/lib/python3.7/dist-packages (from streamlit) (1.5.1)\n",
            "Requirement already satisfied: toml in /usr/local/lib/python3.7/dist-packages (from streamlit) (0.10.2)\n",
            "Collecting base58\n",
            "  Downloading https://files.pythonhosted.org/packages/b8/a1/d9f565e9910c09fd325dc638765e8843a19fa696275c16cc08cf3b0a3c25/base58-2.1.0-py3-none-any.whl\n",
            "Requirement already satisfied: protobuf!=3.11,>=3.6.0 in /usr/local/lib/python3.7/dist-packages (from streamlit) (3.12.4)\n",
            "Requirement already satisfied: packaging in /usr/local/lib/python3.7/dist-packages (from streamlit) (20.9)\n",
            "Requirement already satisfied: pillow>=6.2.0 in /usr/local/lib/python3.7/dist-packages (from streamlit) (7.1.2)\n",
            "Requirement already satisfied: click<8.0,>=7.0 in /usr/local/lib/python3.7/dist-packages (from streamlit) (7.1.2)\n",
            "Requirement already satisfied: astor in /usr/local/lib/python3.7/dist-packages (from streamlit) (0.8.1)\n",
            "Collecting blinker\n",
            "\u001b[?25l  Downloading https://files.pythonhosted.org/packages/1b/51/e2a9f3b757eb802f61dc1f2b09c8c99f6eb01cf06416c0671253536517b6/blinker-1.4.tar.gz (111kB)\n",
            "\u001b[K     |████████████████████████████████| 112kB 52.7MB/s \n",
            "\u001b[?25hCollecting validators\n",
            "  Downloading https://files.pythonhosted.org/packages/db/2f/7fed3ee94ad665ad2c1de87f858f10a7785251ff75b4fd47987888d07ef1/validators-0.18.2-py3-none-any.whl\n",
            "Requirement already satisfied: six>=1.5 in /usr/local/lib/python3.7/dist-packages (from python-dateutil->streamlit) (1.15.0)\n",
            "Collecting gitdb<5,>=4.0.1\n",
            "\u001b[?25l  Downloading https://files.pythonhosted.org/packages/ea/e8/f414d1a4f0bbc668ed441f74f44c116d9816833a48bf81d22b697090dba8/gitdb-4.0.7-py3-none-any.whl (63kB)\n",
            "\u001b[K     |████████████████████████████████| 71kB 10.5MB/s \n",
            "\u001b[?25hRequirement already satisfied: typing-extensions>=3.7.4.0; python_version < \"3.8\" in /usr/local/lib/python3.7/dist-packages (from gitpython->streamlit) (3.7.4.3)\n",
            "Requirement already satisfied: pytz>=2017.2 in /usr/local/lib/python3.7/dist-packages (from pandas>=0.21.0->streamlit) (2018.9)\n",
            "Collecting ipykernel>=5.1.2; python_version >= \"3.4\"\n",
            "\u001b[?25l  Downloading https://files.pythonhosted.org/packages/90/6d/6c8fe4b658f77947d4244ce81f60230c4c8d1dc1a21ae83e63b269339178/ipykernel-5.5.5-py3-none-any.whl (120kB)\n",
            "\u001b[K     |████████████████████████████████| 122kB 52.2MB/s \n",
            "\u001b[?25hRequirement already satisfied: ipywidgets>=7.0.0 in /usr/local/lib/python3.7/dist-packages (from pydeck>=0.1.dev5->streamlit) (7.6.3)\n",
            "Requirement already satisfied: jinja2>=2.10.1 in /usr/local/lib/python3.7/dist-packages (from pydeck>=0.1.dev5->streamlit) (2.11.3)\n",
            "Requirement already satisfied: traitlets>=4.3.2 in /usr/local/lib/python3.7/dist-packages (from pydeck>=0.1.dev5->streamlit) (5.0.5)\n",
            "Requirement already satisfied: idna<3,>=2.5 in /usr/local/lib/python3.7/dist-packages (from requests->streamlit) (2.10)\n",
            "Requirement already satisfied: chardet<4,>=3.0.2 in /usr/local/lib/python3.7/dist-packages (from requests->streamlit) (3.0.4)\n",
            "Requirement already satisfied: urllib3!=1.25.0,!=1.25.1,<1.26,>=1.21.1 in /usr/local/lib/python3.7/dist-packages (from requests->streamlit) (1.24.3)\n",
            "Requirement already satisfied: certifi>=2017.4.17 in /usr/local/lib/python3.7/dist-packages (from requests->streamlit) (2020.12.5)\n",
            "Requirement already satisfied: jsonschema in /usr/local/lib/python3.7/dist-packages (from altair>=3.2.0->streamlit) (2.6.0)\n",
            "Requirement already satisfied: toolz in /usr/local/lib/python3.7/dist-packages (from altair>=3.2.0->streamlit) (0.11.1)\n",
            "Requirement already satisfied: entrypoints in /usr/local/lib/python3.7/dist-packages (from altair>=3.2.0->streamlit) (0.3)\n",
            "Requirement already satisfied: setuptools in /usr/local/lib/python3.7/dist-packages (from protobuf!=3.11,>=3.6.0->streamlit) (57.0.0)\n",
            "Requirement already satisfied: pyparsing>=2.0.2 in /usr/local/lib/python3.7/dist-packages (from packaging->streamlit) (2.4.7)\n",
            "Requirement already satisfied: decorator>=3.4.0 in /usr/local/lib/python3.7/dist-packages (from validators->streamlit) (4.4.2)\n",
            "Collecting smmap<5,>=3.0.1\n",
            "  Downloading https://files.pythonhosted.org/packages/68/ee/d540eb5e5996eb81c26ceffac6ee49041d473bc5125f2aa995cf51ec1cf1/smmap-4.0.0-py2.py3-none-any.whl\n",
            "Requirement already satisfied: ipython>=5.0.0 in /usr/local/lib/python3.7/dist-packages (from ipykernel>=5.1.2; python_version >= \"3.4\"->pydeck>=0.1.dev5->streamlit) (5.5.0)\n",
            "Requirement already satisfied: jupyter-client in /usr/local/lib/python3.7/dist-packages (from ipykernel>=5.1.2; python_version >= \"3.4\"->pydeck>=0.1.dev5->streamlit) (5.3.5)\n",
            "Requirement already satisfied: widgetsnbextension~=3.5.0 in /usr/local/lib/python3.7/dist-packages (from ipywidgets>=7.0.0->pydeck>=0.1.dev5->streamlit) (3.5.1)\n",
            "Requirement already satisfied: nbformat>=4.2.0 in /usr/local/lib/python3.7/dist-packages (from ipywidgets>=7.0.0->pydeck>=0.1.dev5->streamlit) (5.1.3)\n",
            "Requirement already satisfied: jupyterlab-widgets>=1.0.0; python_version >= \"3.6\" in /usr/local/lib/python3.7/dist-packages (from ipywidgets>=7.0.0->pydeck>=0.1.dev5->streamlit) (1.0.0)\n",
            "Requirement already satisfied: MarkupSafe>=0.23 in /usr/local/lib/python3.7/dist-packages (from jinja2>=2.10.1->pydeck>=0.1.dev5->streamlit) (2.0.1)\n",
            "Requirement already satisfied: ipython-genutils in /usr/local/lib/python3.7/dist-packages (from traitlets>=4.3.2->pydeck>=0.1.dev5->streamlit) (0.2.0)\n",
            "Requirement already satisfied: pexpect; sys_platform != \"win32\" in /usr/local/lib/python3.7/dist-packages (from ipython>=5.0.0->ipykernel>=5.1.2; python_version >= \"3.4\"->pydeck>=0.1.dev5->streamlit) (4.8.0)\n",
            "Requirement already satisfied: pickleshare in /usr/local/lib/python3.7/dist-packages (from ipython>=5.0.0->ipykernel>=5.1.2; python_version >= \"3.4\"->pydeck>=0.1.dev5->streamlit) (0.7.5)\n",
            "Requirement already satisfied: pygments in /usr/local/lib/python3.7/dist-packages (from ipython>=5.0.0->ipykernel>=5.1.2; python_version >= \"3.4\"->pydeck>=0.1.dev5->streamlit) (2.6.1)\n",
            "Requirement already satisfied: simplegeneric>0.8 in /usr/local/lib/python3.7/dist-packages (from ipython>=5.0.0->ipykernel>=5.1.2; python_version >= \"3.4\"->pydeck>=0.1.dev5->streamlit) (0.8.1)\n",
            "Requirement already satisfied: prompt-toolkit<2.0.0,>=1.0.4 in /usr/local/lib/python3.7/dist-packages (from ipython>=5.0.0->ipykernel>=5.1.2; python_version >= \"3.4\"->pydeck>=0.1.dev5->streamlit) (1.0.18)\n",
            "Requirement already satisfied: jupyter-core>=4.6.0 in /usr/local/lib/python3.7/dist-packages (from jupyter-client->ipykernel>=5.1.2; python_version >= \"3.4\"->pydeck>=0.1.dev5->streamlit) (4.7.1)\n",
            "Requirement already satisfied: pyzmq>=13 in /usr/local/lib/python3.7/dist-packages (from jupyter-client->ipykernel>=5.1.2; python_version >= \"3.4\"->pydeck>=0.1.dev5->streamlit) (22.0.3)\n",
            "Requirement already satisfied: notebook>=4.4.1 in /usr/local/lib/python3.7/dist-packages (from widgetsnbextension~=3.5.0->ipywidgets>=7.0.0->pydeck>=0.1.dev5->streamlit) (5.3.1)\n",
            "Requirement already satisfied: ptyprocess>=0.5 in /usr/local/lib/python3.7/dist-packages (from pexpect; sys_platform != \"win32\"->ipython>=5.0.0->ipykernel>=5.1.2; python_version >= \"3.4\"->pydeck>=0.1.dev5->streamlit) (0.7.0)\n",
            "Requirement already satisfied: wcwidth in /usr/local/lib/python3.7/dist-packages (from prompt-toolkit<2.0.0,>=1.0.4->ipython>=5.0.0->ipykernel>=5.1.2; python_version >= \"3.4\"->pydeck>=0.1.dev5->streamlit) (0.2.5)\n",
            "Requirement already satisfied: nbconvert in /usr/local/lib/python3.7/dist-packages (from notebook>=4.4.1->widgetsnbextension~=3.5.0->ipywidgets>=7.0.0->pydeck>=0.1.dev5->streamlit) (5.6.1)\n",
            "Requirement already satisfied: terminado>=0.8.1 in /usr/local/lib/python3.7/dist-packages (from notebook>=4.4.1->widgetsnbextension~=3.5.0->ipywidgets>=7.0.0->pydeck>=0.1.dev5->streamlit) (0.10.0)\n",
            "Requirement already satisfied: Send2Trash in /usr/local/lib/python3.7/dist-packages (from notebook>=4.4.1->widgetsnbextension~=3.5.0->ipywidgets>=7.0.0->pydeck>=0.1.dev5->streamlit) (1.5.0)\n",
            "Requirement already satisfied: testpath in /usr/local/lib/python3.7/dist-packages (from nbconvert->notebook>=4.4.1->widgetsnbextension~=3.5.0->ipywidgets>=7.0.0->pydeck>=0.1.dev5->streamlit) (0.5.0)\n",
            "Requirement already satisfied: bleach in /usr/local/lib/python3.7/dist-packages (from nbconvert->notebook>=4.4.1->widgetsnbextension~=3.5.0->ipywidgets>=7.0.0->pydeck>=0.1.dev5->streamlit) (3.3.0)\n",
            "Requirement already satisfied: pandocfilters>=1.4.1 in /usr/local/lib/python3.7/dist-packages (from nbconvert->notebook>=4.4.1->widgetsnbextension~=3.5.0->ipywidgets>=7.0.0->pydeck>=0.1.dev5->streamlit) (1.4.3)\n",
            "Requirement already satisfied: mistune<2,>=0.8.1 in /usr/local/lib/python3.7/dist-packages (from nbconvert->notebook>=4.4.1->widgetsnbextension~=3.5.0->ipywidgets>=7.0.0->pydeck>=0.1.dev5->streamlit) (0.8.4)\n",
            "Requirement already satisfied: defusedxml in /usr/local/lib/python3.7/dist-packages (from nbconvert->notebook>=4.4.1->widgetsnbextension~=3.5.0->ipywidgets>=7.0.0->pydeck>=0.1.dev5->streamlit) (0.7.1)\n",
            "Requirement already satisfied: webencodings in /usr/local/lib/python3.7/dist-packages (from bleach->nbconvert->notebook>=4.4.1->widgetsnbextension~=3.5.0->ipywidgets>=7.0.0->pydeck>=0.1.dev5->streamlit) (0.5.1)\n",
            "Building wheels for collected packages: blinker\n",
            "  Building wheel for blinker (setup.py) ... \u001b[?25l\u001b[?25hdone\n",
            "  Created wheel for blinker: filename=blinker-1.4-cp37-none-any.whl size=13476 sha256=62cd4b54e2aff0bb2de227fb00b6fa0e8562972ab5646e8ca7f9868240dee9f1\n",
            "  Stored in directory: /root/.cache/pip/wheels/92/a0/00/8690a57883956a301d91cf4ec999cc0b258b01e3f548f86e89\n",
            "Successfully built blinker\n",
            "\u001b[31mERROR: google-colab 1.0.0 has requirement ipykernel~=4.10, but you'll have ipykernel 5.5.5 which is incompatible.\u001b[0m\n",
            "Installing collected packages: smmap, gitdb, gitpython, watchdog, ipykernel, pydeck, base58, blinker, validators, streamlit\n",
            "  Found existing installation: ipykernel 4.10.1\n",
            "    Uninstalling ipykernel-4.10.1:\n",
            "      Successfully uninstalled ipykernel-4.10.1\n",
            "Successfully installed base58-2.1.0 blinker-1.4 gitdb-4.0.7 gitpython-3.1.17 ipykernel-5.5.5 pydeck-0.6.2 smmap-4.0.0 streamlit-0.82.0 validators-0.18.2 watchdog-2.1.2\n"
          ],
          "name": "stdout"
        },
        {
          "output_type": "display_data",
          "data": {
            "application/vnd.colab-display-data+json": {
              "pip_warning": {
                "packages": [
                  "ipykernel"
                ]
              }
            }
          },
          "metadata": {
            "tags": []
          }
        },
        {
          "output_type": "stream",
          "text": [
            "Collecting pyngrok\n",
            "\u001b[?25l  Downloading https://files.pythonhosted.org/packages/6b/4e/a2fe095bbe17cf26424c4abcd22a0490e22d01cc628f25af5e220ddbf6f0/pyngrok-5.0.5.tar.gz (745kB)\n",
            "\r\u001b[K     |▍                               | 10kB 14.4MB/s eta 0:00:01\r\u001b[K     |▉                               | 20kB 20.3MB/s eta 0:00:01\r\u001b[K     |█▎                              | 30kB 25.0MB/s eta 0:00:01\r\u001b[K     |█▊                              | 40kB 28.3MB/s eta 0:00:01\r\u001b[K     |██▏                             | 51kB 30.8MB/s eta 0:00:01\r\u001b[K     |██▋                             | 61kB 33.3MB/s eta 0:00:01\r\u001b[K     |███                             | 71kB 33.3MB/s eta 0:00:01\r\u001b[K     |███▌                            | 81kB 33.9MB/s eta 0:00:01\r\u001b[K     |████                            | 92kB 30.9MB/s eta 0:00:01\r\u001b[K     |████▍                           | 102kB 32.1MB/s eta 0:00:01\r\u001b[K     |████▉                           | 112kB 32.1MB/s eta 0:00:01\r\u001b[K     |█████▎                          | 122kB 32.1MB/s eta 0:00:01\r\u001b[K     |█████▊                          | 133kB 32.1MB/s eta 0:00:01\r\u001b[K     |██████▏                         | 143kB 32.1MB/s eta 0:00:01\r\u001b[K     |██████▋                         | 153kB 32.1MB/s eta 0:00:01\r\u001b[K     |███████                         | 163kB 32.1MB/s eta 0:00:01\r\u001b[K     |███████▌                        | 174kB 32.1MB/s eta 0:00:01\r\u001b[K     |████████                        | 184kB 32.1MB/s eta 0:00:01\r\u001b[K     |████████▍                       | 194kB 32.1MB/s eta 0:00:01\r\u001b[K     |████████▉                       | 204kB 32.1MB/s eta 0:00:01\r\u001b[K     |█████████▎                      | 215kB 32.1MB/s eta 0:00:01\r\u001b[K     |█████████▊                      | 225kB 32.1MB/s eta 0:00:01\r\u001b[K     |██████████▏                     | 235kB 32.1MB/s eta 0:00:01\r\u001b[K     |██████████▌                     | 245kB 32.1MB/s eta 0:00:01\r\u001b[K     |███████████                     | 256kB 32.1MB/s eta 0:00:01\r\u001b[K     |███████████▍                    | 266kB 32.1MB/s eta 0:00:01\r\u001b[K     |███████████▉                    | 276kB 32.1MB/s eta 0:00:01\r\u001b[K     |████████████▎                   | 286kB 32.1MB/s eta 0:00:01\r\u001b[K     |████████████▊                   | 296kB 32.1MB/s eta 0:00:01\r\u001b[K     |█████████████▏                  | 307kB 32.1MB/s eta 0:00:01\r\u001b[K     |█████████████▋                  | 317kB 32.1MB/s eta 0:00:01\r\u001b[K     |██████████████                  | 327kB 32.1MB/s eta 0:00:01\r\u001b[K     |██████████████▌                 | 337kB 32.1MB/s eta 0:00:01\r\u001b[K     |███████████████                 | 348kB 32.1MB/s eta 0:00:01\r\u001b[K     |███████████████▍                | 358kB 32.1MB/s eta 0:00:01\r\u001b[K     |███████████████▉                | 368kB 32.1MB/s eta 0:00:01\r\u001b[K     |████████████████▎               | 378kB 32.1MB/s eta 0:00:01\r\u001b[K     |████████████████▊               | 389kB 32.1MB/s eta 0:00:01\r\u001b[K     |█████████████████▏              | 399kB 32.1MB/s eta 0:00:01\r\u001b[K     |█████████████████▋              | 409kB 32.1MB/s eta 0:00:01\r\u001b[K     |██████████████████              | 419kB 32.1MB/s eta 0:00:01\r\u001b[K     |██████████████████▌             | 430kB 32.1MB/s eta 0:00:01\r\u001b[K     |███████████████████             | 440kB 32.1MB/s eta 0:00:01\r\u001b[K     |███████████████████▍            | 450kB 32.1MB/s eta 0:00:01\r\u001b[K     |███████████████████▉            | 460kB 32.1MB/s eta 0:00:01\r\u001b[K     |████████████████████▎           | 471kB 32.1MB/s eta 0:00:01\r\u001b[K     |████████████████████▊           | 481kB 32.1MB/s eta 0:00:01\r\u001b[K     |█████████████████████           | 491kB 32.1MB/s eta 0:00:01\r\u001b[K     |█████████████████████▌          | 501kB 32.1MB/s eta 0:00:01\r\u001b[K     |██████████████████████          | 512kB 32.1MB/s eta 0:00:01\r\u001b[K     |██████████████████████▍         | 522kB 32.1MB/s eta 0:00:01\r\u001b[K     |██████████████████████▉         | 532kB 32.1MB/s eta 0:00:01\r\u001b[K     |███████████████████████▎        | 542kB 32.1MB/s eta 0:00:01\r\u001b[K     |███████████████████████▊        | 552kB 32.1MB/s eta 0:00:01\r\u001b[K     |████████████████████████▏       | 563kB 32.1MB/s eta 0:00:01\r\u001b[K     |████████████████████████▋       | 573kB 32.1MB/s eta 0:00:01\r\u001b[K     |█████████████████████████       | 583kB 32.1MB/s eta 0:00:01\r\u001b[K     |█████████████████████████▌      | 593kB 32.1MB/s eta 0:00:01\r\u001b[K     |██████████████████████████      | 604kB 32.1MB/s eta 0:00:01\r\u001b[K     |██████████████████████████▍     | 614kB 32.1MB/s eta 0:00:01\r\u001b[K     |██████████████████████████▉     | 624kB 32.1MB/s eta 0:00:01\r\u001b[K     |███████████████████████████▎    | 634kB 32.1MB/s eta 0:00:01\r\u001b[K     |███████████████████████████▊    | 645kB 32.1MB/s eta 0:00:01\r\u001b[K     |████████████████████████████▏   | 655kB 32.1MB/s eta 0:00:01\r\u001b[K     |████████████████████████████▋   | 665kB 32.1MB/s eta 0:00:01\r\u001b[K     |█████████████████████████████   | 675kB 32.1MB/s eta 0:00:01\r\u001b[K     |█████████████████████████████▌  | 686kB 32.1MB/s eta 0:00:01\r\u001b[K     |██████████████████████████████  | 696kB 32.1MB/s eta 0:00:01\r\u001b[K     |██████████████████████████████▍ | 706kB 32.1MB/s eta 0:00:01\r\u001b[K     |██████████████████████████████▉ | 716kB 32.1MB/s eta 0:00:01\r\u001b[K     |███████████████████████████████▏| 727kB 32.1MB/s eta 0:00:01\r\u001b[K     |███████████████████████████████▋| 737kB 32.1MB/s eta 0:00:01\r\u001b[K     |████████████████████████████████| 747kB 32.1MB/s \n",
            "\u001b[?25hRequirement already satisfied: PyYAML in /usr/local/lib/python3.7/dist-packages (from pyngrok) (3.13)\n",
            "Building wheels for collected packages: pyngrok\n",
            "  Building wheel for pyngrok (setup.py) ... \u001b[?25l\u001b[?25hdone\n",
            "  Created wheel for pyngrok: filename=pyngrok-5.0.5-cp37-none-any.whl size=19262 sha256=696b2129be381db524e02c1bfbebdf8e4f27a9f4e6ff87c729dcbd87c4792e84\n",
            "  Stored in directory: /root/.cache/pip/wheels/0c/13/64/5ebbcc22eaf53fdf5766b397c1fb17c83f5775fdccf0ea1b88\n",
            "Successfully built pyngrok\n",
            "Installing collected packages: pyngrok\n",
            "Successfully installed pyngrok-5.0.5\n"
          ],
          "name": "stdout"
        }
      ]
    }
  ]
}